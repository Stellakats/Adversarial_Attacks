{
 "cells": [
  {
   "cell_type": "markdown",
   "metadata": {},
   "source": [
    "# Adversarial Training!\n",
    "\n",
    "[Towards Deep Learning Models Resistant to Adversarial Attacks](https://arxiv.org/abs/1706.06083)\n",
    "\n",
    "Introduce a dual optimization process (not guaranteed to increase robustness); fit network parameters $\\theta$ so that \n",
    "\n",
    "$$\n",
    "\\min_\\theta \\mathbb{E}_{(x,y) \\sim \\mathcal{D}} \\left[ \\max_{\\delta \\in \\mathcal{S}} L(\\theta, x+\\delta, y) \\right]\n",
    "$$\n",
    "\n",
    "where $\\mathcal{S}$ is the box around the input images $(x, y) \\sim \\mathcal{D}$ where we want to avoid for adversarial attacks (in this case, we'll use the infinity box),  and $L$ is a kind of attack metric that we want to increase (we'll be using PGD to increase the cross entropy loss)."
   ]
  },
  {
   "cell_type": "code",
   "execution_count": 1,
   "metadata": {},
   "outputs": [],
   "source": [
    "import torch \n",
    "import torch.nn as nn\n",
    "import torch.optim as optim\n",
    "import torch.nn.functional as F\n",
    "\n",
    "import numpy as np\n",
    "import time \n",
    "\n",
    "from torchvision import datasets, transforms\n",
    "\n",
    "import matplotlib.pyplot as plt\n",
    "import pandas as pd"
   ]
  },
  {
   "cell_type": "code",
   "execution_count": 2,
   "metadata": {},
   "outputs": [
    {
     "data": {
      "text/plain": [
       "False"
      ]
     },
     "execution_count": 2,
     "metadata": {},
     "output_type": "execute_result"
    }
   ],
   "source": [
    "device = torch.device(\"cpu\") # I'm not sure if it will work out of the box with cuda even if you have a GPU\n",
    "torch.cuda.is_available()"
   ]
  },
  {
   "cell_type": "code",
   "execution_count": 3,
   "metadata": {},
   "outputs": [],
   "source": [
    "def seed():\n",
    "    np.random.seed(42)\n",
    "    torch.manual_seed(42)\n",
    "\n",
    "seed()"
   ]
  },
  {
   "cell_type": "markdown",
   "metadata": {},
   "source": [
    "# Network"
   ]
  },
  {
   "cell_type": "code",
   "execution_count": 4,
   "metadata": {},
   "outputs": [],
   "source": [
    "class Net(nn.Module):\n",
    "    def __init__(self):\n",
    "        super().__init__()\n",
    "        self.fc = nn.Linear(28*28, 200)\n",
    "        self.fc2 = nn.Linear(200, 10)\n",
    "        \n",
    "    def forward(self, x):\n",
    "        x = x.view((-1, 28*28))\n",
    "        x = F.relu(self.fc(x))\n",
    "        x = self.fc2(x)\n",
    "        return x"
   ]
  },
  {
   "cell_type": "markdown",
   "metadata": {},
   "source": [
    "# Data"
   ]
  },
  {
   "cell_type": "code",
   "execution_count": 5,
   "metadata": {},
   "outputs": [],
   "source": [
    "batch_size = 64"
   ]
  },
  {
   "cell_type": "code",
   "execution_count": 6,
   "metadata": {},
   "outputs": [],
   "source": [
    "train_dataset = datasets.MNIST(\n",
    "    'mnist_data/', train=True, download=True, transform=transforms.Compose(\n",
    "    [transforms.ToTensor()]\n",
    "))\n",
    "\n",
    "test_dataset = datasets.MNIST(\n",
    "    'mnist_data/', train=False, download=True, transform=transforms.Compose(\n",
    "    [transforms.ToTensor()]\n",
    "))"
   ]
  },
  {
   "cell_type": "code",
   "execution_count": 7,
   "metadata": {},
   "outputs": [],
   "source": [
    "train_loader = torch.utils.data.DataLoader(\n",
    "    train_dataset, batch_size=batch_size, shuffle=True\n",
    ")\n",
    "\n",
    "test_loader = torch.utils.data.DataLoader(\n",
    "    test_dataset, batch_size=batch_size, shuffle=False\n",
    ")"
   ]
  },
  {
   "cell_type": "code",
   "execution_count": 22,
   "metadata": {},
   "outputs": [],
   "source": [
    "class Normalize(nn.Module):\n",
    "    def forward(self, x):\n",
    "        return (x - 0.1307)/0.3081 # expectation and standard deviation"
   ]
  },
  {
   "cell_type": "markdown",
   "metadata": {},
   "source": [
    "# Attack\n",
    "\n",
    "There is one difference now compared to the attacking notebook: before the attack, the image is displaced a to a random location within the infinity ball of radius eps around the input image. This makes it possible for the attack to find more local minimia within the infinity ball, and thus enables a better defence."
   ]
  },
  {
   "cell_type": "code",
   "execution_count": 9,
   "metadata": {},
   "outputs": [],
   "source": [
    "def pgd_untargeted(\n",
    "    model, \n",
    "    x, \n",
    "    labels, \n",
    "    k, \n",
    "    epsilon, \n",
    "    epsilon_step, \n",
    "    clamp_min=None, \n",
    "    clamp_max=None,\n",
    "    **kwargs\n",
    "):\n",
    "    \"\"\"Attack for adversarial training. Modifies input within infinity ball\n",
    "    \n",
    "        labels - true label\n",
    "        k - attack iterations\n",
    "        epsilon - |x - out| <= epsilon\n",
    "        epsilon_step - step size\n",
    "        clamps - are allowed range on image feature\n",
    "    \"\"\"\n",
    "    x_min = x - epsilon\n",
    "    x_max = x + epsilon\n",
    "    \n",
    "    img = torch.as_tensor(x, device=device)\n",
    "    img += epsilon * torch.rand_like(img)\n",
    "    img.requires_grad = True\n",
    "    \n",
    "    for i in range(k):\n",
    "        model.zero_grad()\n",
    "        nn.CrossEntropyLoss()(model(img), labels).backward()\n",
    "        img = img + (epsilon_step * img.grad.sign())\n",
    "        img = torch.min(x_max, torch.max(x_min, img))\n",
    "        \n",
    "        img = torch.as_tensor(img.data, device=device)\n",
    "        img.requires_grad = True\n",
    "        \n",
    "    return img.clamp(clamp_min, clamp_max) if not clamp_min is None else img"
   ]
  },
  {
   "cell_type": "markdown",
   "metadata": {},
   "source": [
    "# Fit"
   ]
  },
  {
   "cell_type": "code",
   "execution_count": 19,
   "metadata": {},
   "outputs": [],
   "source": [
    "# Would be interesting to test different values \n",
    "# Plot accurace with and without attack and training\n",
    "\n",
    "DEFAULT_ATTACK_KWARGS = {\n",
    "    'k': 5, \n",
    "    'epsilon': 0.2,          \n",
    "    'epsilon_step': 0.05,\n",
    "    'clip_min': 0,\n",
    "    'clip_max': 1,\n",
    "}\n",
    "\n",
    "def fit(\n",
    "    model,\n",
    "    learning_rate=0.0001,\n",
    "    num_epochs=5,\n",
    "    attack_kwargs=DEFAULT_ATTACK_KWARGS.copy()\n",
    "):\n",
    "    opt = optim.Adam(params=model.parameters(), lr=learning_rate)\n",
    "    ce_loss = nn.CrossEntropyLoss()\n",
    "    \n",
    "    for epoch in range(num_epochs):\n",
    "        model.train()\n",
    "        t1 = time.time()\n",
    "\n",
    "        for x_batch, y_batch in train_loader:\n",
    "            x_batch, y_batch = x_batch.to(device), y_batch.to(device)\n",
    "\n",
    "            if attack_kwargs is not None:\n",
    "                model.eval()\n",
    "                x_batch = pgd_untargeted(model, x_batch, y_batch, **attack_kwargs)\n",
    "                model.train()\n",
    "\n",
    "            opt.zero_grad()\n",
    "            out = model(x_batch)\n",
    "            batch_loss = ce_loss(out, y_batch)\n",
    "            batch_loss.backward()\n",
    "            opt.step()\n",
    "\n",
    "        tested_count, correct_count = 0.0, 0.0\n",
    "        model.eval()\n",
    "        for x_batch, y_batch in test_loader:\n",
    "            x_batch, y_batch = x_batch.to(device), y_batch.to(device)\n",
    "            out = model(x_batch)\n",
    "            pred = torch.max(out, dim=1)[1]\n",
    "            acc = pred.eq(y_batch).sum().item()\n",
    "            correct_count += acc\n",
    "            tested_count += x_batch.size()[0]\n",
    "\n",
    "        t2 = time.time()\n",
    "\n",
    "        print('Epoch %d: Accuracy %.5lf [%.2lf seconds]' % (epoch+1, correct_count/tested_count, t2-t1))"
   ]
  },
  {
   "cell_type": "code",
   "execution_count": 20,
   "metadata": {},
   "outputs": [
    {
     "name": "stdout",
     "output_type": "stream",
     "text": [
      "Epoch 1: Accuracy 0.91770 [7.50 seconds]\n",
      "Epoch 2: Accuracy 0.93580 [7.90 seconds]\n",
      "Epoch 3: Accuracy 0.94740 [8.03 seconds]\n",
      "Epoch 4: Accuracy 0.95440 [8.07 seconds]\n",
      "Epoch 5: Accuracy 0.95870 [8.09 seconds]\n"
     ]
    }
   ],
   "source": [
    "seed()\n",
    "model = nn.Sequential(Normalize(), Net()).to(device)\n",
    "fit(model, attack_kwargs=None)"
   ]
  },
  {
   "cell_type": "code",
   "execution_count": 21,
   "metadata": {},
   "outputs": [
    {
     "name": "stdout",
     "output_type": "stream",
     "text": [
      "Epoch 1: Accuracy 0.74430 [16.27 seconds]\n",
      "Epoch 2: Accuracy 0.85380 [16.77 seconds]\n",
      "Epoch 3: Accuracy 0.89360 [17.59 seconds]\n",
      "Epoch 4: Accuracy 0.91340 [19.51 seconds]\n",
      "Epoch 5: Accuracy 0.92130 [17.67 seconds]\n"
     ]
    }
   ],
   "source": [
    "seed()\n",
    "pgdmodel = nn.Sequential(Normalize(), Net()).to(device)\n",
    "fit(pgdmodel)"
   ]
  },
  {
   "cell_type": "markdown",
   "metadata": {},
   "source": [
    "# Is the robustness increased? Yes it is! :)"
   ]
  },
  {
   "cell_type": "code",
   "execution_count": 29,
   "metadata": {},
   "outputs": [
    {
     "data": {
      "text/plain": [
       "torch.Size([64, 10])"
      ]
     },
     "execution_count": 29,
     "metadata": {},
     "output_type": "execute_result"
    }
   ],
   "source": [
    "x, y = next(iter(train_loader))\n",
    "\n",
    "out = model(x)\n",
    "\n",
    "out.shape"
   ]
  },
  {
   "cell_type": "code",
   "execution_count": 37,
   "metadata": {},
   "outputs": [],
   "source": [
    "k = 5\n",
    "epsilon = 0.2\n",
    "epsilon_step = 0.05\n",
    "\n",
    "def accuracy_under_attack(\n",
    "    model,\n",
    "    data_loader,\n",
    "    attack\n",
    "):\n",
    "    model.eval()\n",
    "    tot_test, tot_acc = 0.0, 0.0\n",
    "    for x_batch, y_batch in data_loader:\n",
    "        x_batch, y_batch = x_batch.to(device), y_batch.to(device)\n",
    "        \n",
    "        if attack:\n",
    "            x_batch = pgd_untargeted(\n",
    "                model,\n",
    "                x_batch,\n",
    "                y_batch,\n",
    "                clip_min=0,\n",
    "                clip_max=1,\n",
    "                k=k,\n",
    "                epsilon=epsilon,\n",
    "                epsilon_step=epsilon_step,\n",
    "            )\n",
    "        \n",
    "        out = model(x_batch)\n",
    "        pred = torch.max(out, dim=1)[1]\n",
    "        \n",
    "        tot_acc += pred.eq(y_batch).sum().item()\n",
    "        tot_test += x_batch.size()[0]\n",
    "        \n",
    "    return tot_acc/tot_test"
   ]
  },
  {
   "cell_type": "code",
   "execution_count": 49,
   "metadata": {},
   "outputs": [],
   "source": [
    "test_loader = torch.utils.data.DataLoader(test_dataset, batch_size=124, shuffle=False)\n",
    "\n",
    "df = pd.DataFrame(columns=['Net', 'Natural', 'PGD attack'])\n",
    "df.loc[len(df), :] = ('Vanilla net',\n",
    "        accuracy_under_attack(model, test_loader, False),\n",
    "        accuracy_under_attack(model, test_loader,  True)\n",
    ")\n",
    "\n",
    "df.loc[len(df), :] = ('PGD trained',\n",
    "        accuracy_under_attack(pgdmodel, test_loader, False),\n",
    "        accuracy_under_attack(pgdmodel, test_loader,  True)\n",
    ")\n",
    "\n",
    "df = 100*df.set_index('Net')\n",
    "df[' '] = \"%\""
   ]
  },
  {
   "cell_type": "markdown",
   "metadata": {},
   "source": [
    "### The Adversarially trained network performs better under attack"
   ]
  },
  {
   "cell_type": "code",
   "execution_count": 51,
   "metadata": {},
   "outputs": [
    {
     "data": {
      "text/html": [
       "<div>\n",
       "<style scoped>\n",
       "    .dataframe tbody tr th:only-of-type {\n",
       "        vertical-align: middle;\n",
       "    }\n",
       "\n",
       "    .dataframe tbody tr th {\n",
       "        vertical-align: top;\n",
       "    }\n",
       "\n",
       "    .dataframe thead th {\n",
       "        text-align: right;\n",
       "    }\n",
       "</style>\n",
       "<table border=\"1\" class=\"dataframe\">\n",
       "  <thead>\n",
       "    <tr style=\"text-align: right;\">\n",
       "      <th></th>\n",
       "      <th>Natural</th>\n",
       "      <th>PGD attack</th>\n",
       "      <th></th>\n",
       "    </tr>\n",
       "    <tr>\n",
       "      <th>Net</th>\n",
       "      <th></th>\n",
       "      <th></th>\n",
       "      <th></th>\n",
       "    </tr>\n",
       "  </thead>\n",
       "  <tbody>\n",
       "    <tr>\n",
       "      <th>Vanilla net</th>\n",
       "      <td>95.87</td>\n",
       "      <td>0.05</td>\n",
       "      <td>%</td>\n",
       "    </tr>\n",
       "    <tr>\n",
       "      <th>PGD trained</th>\n",
       "      <td>92.13</td>\n",
       "      <td>55.89</td>\n",
       "      <td>%</td>\n",
       "    </tr>\n",
       "  </tbody>\n",
       "</table>\n",
       "</div>"
      ],
      "text/plain": [
       "            Natural PGD attack   \n",
       "Net                              \n",
       "Vanilla net   95.87       0.05  %\n",
       "PGD trained   92.13      55.89  %"
      ]
     },
     "execution_count": 51,
     "metadata": {},
     "output_type": "execute_result"
    }
   ],
   "source": [
    "df"
   ]
  },
  {
   "cell_type": "markdown",
   "metadata": {},
   "source": [
    "## Loss distribution: The loss is more tightly concentrated around zero for adversarially trained networks"
   ]
  },
  {
   "cell_type": "code",
   "execution_count": 73,
   "metadata": {},
   "outputs": [],
   "source": [
    "number_of_attacks = int(1e4)\n",
    "test_loader = torch.utils.data.DataLoader(test_dataset, batch_size=1, shuffle=False)\n",
    "\n",
    "x, y = next(iter(test_loader))\n",
    "x = torch.cat([torch.as_tensor(x) for i in range(number_of_attacks)], 0).to(device)\n",
    "y = torch.cat([torch.as_tensor(y) for i in range(number_of_attacks)], 0).to(device)\n",
    "\n",
    "advx = pgd_untargeted(model, x, y, 5, 0.2, 0.05, 0, 1)\n",
    "ce_loss = torch.nn.CrossEntropyLoss(reduction='none')\n",
    "\n",
    "loss = ce_loss(model(advx), y).cpu().detach().numpy()\n",
    "advloss = ce_loss(pgdmodel(advx), y).cpu().detach().numpy()"
   ]
  },
  {
   "cell_type": "code",
   "execution_count": 75,
   "metadata": {},
   "outputs": [
    {
     "data": {
      "image/png": "[encoded data removed]",
      "text/plain": [
       "<Figure size 432x288 with 1 Axes>"
      ]
     },
     "metadata": {
      "needs_background": "light"
     },
     "output_type": "display_data"
    }
   ],
   "source": [
    "f, ax = plt.subplots()\n",
    "\n",
    "ax.hist(loss, label=\"Vanilla\")\n",
    "ax.hist(advloss, label=\"PGD trained\")\n",
    "\n",
    "ax.legend(loc='best')\n",
    "ax.set_yscale('log')\n",
    "\n",
    "ax.set_xlabel('Loss')\n",
    "ax.set_ylabel('Count')\n",
    "\n",
    "plt.title(\"The advarsarially trained network has more concentrated losses!\")\n",
    "plt.show()"
   ]
  },
  {
   "cell_type": "code",
   "execution_count": null,
   "metadata": {},
   "outputs": [],
   "source": []
  },
  {
   "cell_type": "code",
   "execution_count": null,
   "metadata": {},
   "outputs": [],
   "source": []
  },
  {
   "cell_type": "code",
   "execution_count": null,
   "metadata": {},
   "outputs": [],
   "source": []
  },
  {
   "cell_type": "code",
   "execution_count": null,
   "metadata": {},
   "outputs": [],
   "source": []
  },
  {
   "cell_type": "code",
   "execution_count": null,
   "metadata": {},
   "outputs": [],
   "source": []
  },
  {
   "cell_type": "code",
   "execution_count": null,
   "metadata": {},
   "outputs": [],
   "source": []
  },
  {
   "cell_type": "code",
   "execution_count": null,
   "metadata": {},
   "outputs": [],
   "source": []
  },
  {
   "cell_type": "code",
   "execution_count": null,
   "metadata": {},
   "outputs": [],
   "source": []
  },
  {
   "cell_type": "code",
   "execution_count": null,
   "metadata": {},
   "outputs": [],
   "source": []
  },
  {
   "cell_type": "code",
   "execution_count": null,
   "metadata": {},
   "outputs": [],
   "source": []
  },
  {
   "cell_type": "code",
   "execution_count": null,
   "metadata": {},
   "outputs": [],
   "source": []
  },
  {
   "cell_type": "code",
   "execution_count": null,
   "metadata": {},
   "outputs": [],
   "source": []
  },
  {
   "cell_type": "code",
   "execution_count": null,
   "metadata": {},
   "outputs": [],
   "source": []
  },
  {
   "cell_type": "code",
   "execution_count": null,
   "metadata": {},
   "outputs": [],
   "source": []
  },
  {
   "cell_type": "code",
   "execution_count": null,
   "metadata": {},
   "outputs": [],
   "source": []
  }
 ],
 "metadata": {
  "kernelspec": {
   "display_name": "Python 3",
   "language": "python",
   "name": "python3"
  },
  "language_info": {
   "codemirror_mode": {
    "name": "ipython",
    "version": 3
   },
   "file_extension": ".py",
   "mimetype": "text/x-python",
   "name": "python",
   "nbconvert_exporter": "python",
   "pygments_lexer": "ipython3",
   "version": "3.7.3"
  }
 },
 "nbformat": 4,
 "nbformat_minor": 2
}
